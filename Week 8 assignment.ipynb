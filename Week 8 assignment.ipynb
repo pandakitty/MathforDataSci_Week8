{
 "cells": [
  {
   "cell_type": "code",
   "execution_count": 1,
   "id": "01323b67",
   "metadata": {},
   "outputs": [],
   "source": [
    "# 1. Solving a System of Linear Equations \n",
    "## Use Python to solve the following system of equations. Hint: You can write this system as a matrix equation in in the form Ax = b, where the matrix A is invertible."
   ]
  },
  {
   "cell_type": "code",
   "execution_count": 2,
   "id": "36793351",
   "metadata": {},
   "outputs": [],
   "source": [
    "def print_matrix(Title, M):\n",
    "    print(Title)\n",
    "    for row in M:\n",
    "        print([round(x,3)+0 for x in row])\n",
    "        \n",
    "def print_matrices(Action, Title1, M1, Title2, M2):\n",
    "    print(Action)\n",
    "    print(Title1, '\\t'*int(len(M1)/2)+\"\\t\"*len(M1), Title2)\n",
    "    for i in range(len(M1)):\n",
    "        row1 = ['{0:+7.3f}'.format(x) for x in M1[i]]\n",
    "        row2 = ['{0:+7.3f}'.format(x) for x in M2[i]]\n",
    "        print(row1,'\\t', row2)\n",
    "        \n",
    "def zeros_matrix(rows, cols):\n",
    "    A = []\n",
    "    for i in range(rows):\n",
    "        A.append([])\n",
    "        for j in range(cols):\n",
    "            A[-1].append(0.0)\n",
    "\n",
    "    return A\n",
    "\n",
    "def copy_matrix(M):\n",
    "    rows = len(M)\n",
    "    cols = len(M[0])\n",
    "\n",
    "    MC = zeros_matrix(rows, cols)\n",
    "\n",
    "    for i in range(rows):\n",
    "        for j in range(rows):\n",
    "            MC[i][j] = M[i][j]\n",
    "\n",
    "    return MC\n",
    "\n",
    "def matrix_multiply(A,B):\n",
    "    rowsA = len(A)\n",
    "    colsA = len(A[0])\n",
    "\n",
    "    rowsB = len(B)\n",
    "    colsB = len(B[0])\n",
    "\n",
    "    if colsA != rowsB:\n",
    "        print('Number of A columns must equal number of B rows.')\n",
    "        sys.exit()\n",
    "\n",
    "    C = zeros_matrix(rowsA, colsB)\n",
    "\n",
    "    for i in range(rowsA):\n",
    "        for j in range(colsB):\n",
    "            total = 0\n",
    "            for ii in range(colsA):\n",
    "                total += A[i][ii] * B[ii][j]\n",
    "            C[i][j] = total\n",
    "\n",
    "    return C"
   ]
  },
  {
   "cell_type": "code",
   "execution_count": 3,
   "id": "ef4ed35c",
   "metadata": {},
   "outputs": [
    {
     "name": "stdout",
     "output_type": "stream",
     "text": [
      "A Matrix\n",
      "[27, -10, 4, -29]\n",
      "[-16, 5, -2, 18]\n",
      "[-17, 4, -2, 20]\n",
      "[-7, 2, -1, 8]\n",
      "\n",
      "I Matrix\n",
      "[1, 0, 0, 0]\n",
      "[0, 1, 0, 0]\n",
      "[0, 0, 1, 0]\n",
      "[0, 0, 0, 1]\n"
     ]
    }
   ],
   "source": [
    "# Define A, B and I Matrices:\n",
    "A = [[27, -10, 4, -29],[-16,5,-2,18],[-17,4,-2,20],[-7,2,-1,8]]\n",
    "I =  [[1,0,0,0],[0,1,0,0],[0,0,1,0],[0,0,0,1]]\n",
    "B = [[1],[-1],[0],[1]]\n",
    "# print\n",
    "print_matrix('A Matrix', A)\n",
    "print()\n",
    "print_matrix('I Matrix', I)"
   ]
  },
  {
   "cell_type": "code",
   "execution_count": 4,
   "id": "fadbb46a",
   "metadata": {},
   "outputs": [
    {
     "name": "stdout",
     "output_type": "stream",
     "text": [
      "\n",
      "AM stands for \"A Matrix Morphing\", IM Matrix stands for \"I Matrix Morphing\"\n",
      "\n",
      "AM Matrix\n",
      "[27, -10, 4, -29]\n",
      "[-16, 5, -2, 18]\n",
      "[-17, 4, -2, 20]\n",
      "[-7, 2, -1, 8]\n",
      "\n",
      "IM Matrix\n",
      "[1, 0, 0, 0]\n",
      "[0, 1, 0, 0]\n",
      "[0, 0, 1, 0]\n",
      "[0, 0, 0, 1]\n"
     ]
    }
   ],
   "source": [
    "# AM and IM are the same as A and I matrices\n",
    "AM = copy_matrix(A)\n",
    "IM = copy_matrix(I)\n",
    "n = len(AM)\n",
    "\n",
    "exString = \"\"\"\n",
    "AM stands for \"A Matrix Morphing\", IM Matrix stands for \"I Matrix Morphing\"\n",
    "\"\"\"\n",
    "# print my work\n",
    "print(exString)\n",
    "print_matrix('AM Matrix', AM)\n",
    "print()\n",
    "print_matrix('IM Matrix', IM)"
   ]
  },
  {
   "cell_type": "code",
   "execution_count": 5,
   "id": "51db5bc3",
   "metadata": {},
   "outputs": [
    {
     "name": "stdout",
     "output_type": "stream",
     "text": [
      "AM Matrix\n",
      "[1.0, -0.37, 0.148, -1.074]\n",
      "[-16, 5, -2, 18]\n",
      "[-17, 4, -2, 20]\n",
      "[-7, 2, -1, 8]\n",
      "\n",
      "IM Matrix\n",
      "[0.037, 0.0, 0.0, 0.0]\n",
      "[0, 1, 0, 0]\n",
      "[0, 0, 1, 0]\n",
      "[0, 0, 0, 1]\n"
     ]
    }
   ],
   "source": [
    "# Run the cells where the focus diagnol equals zero\n",
    "fd = 0  \n",
    "fdScaler = 1. / AM[fd][fd]\n",
    "\n",
    "# fs stands for focus diagonal or the first step in (Sk1 equation)\n",
    "# Sk1 diagonal elements where i and j = 1 to n, independently\n",
    "\n",
    "for j in range(n): # using j to indicate cycling thru columns\n",
    "    AM[fd][j] = fdScaler * AM[fd][j]\n",
    "    IM[fd][j] = fdScaler * IM[fd][j]\n",
    "\n",
    "# print the first row of each matrix by the first diagonal element in AM matrix\n",
    "print_matrix('AM Matrix', AM)\n",
    "print()\n",
    "print_matrix('IM Matrix', IM)"
   ]
  },
  {
   "cell_type": "code",
   "execution_count": 6,
   "id": "ad923c99",
   "metadata": {},
   "outputs": [
    {
     "name": "stdout",
     "output_type": "stream",
     "text": [
      "AM Matrix\n",
      "[1.0, -0.37, 0.148, -1.074]\n",
      "[0.0, -0.926, 0.37, 0.815]\n",
      "[0.0, -2.296, 0.519, 1.741]\n",
      "[0.0, -0.593, 0.037, 0.481]\n",
      "\n",
      "IM Matrix\n",
      "[0.037, 0.0, 0.0, 0.0]\n",
      "[0.593, 1.0, 0.0, 0.0]\n",
      "[0.63, 0.0, 1.0, 0.0]\n",
      "[0.259, 0.0, 0.0, 1.0]\n"
     ]
    }
   ],
   "source": [
    "n = len(A)\n",
    "indices = list(range(n))\n",
    "\n",
    "for i in indices[0:fd] + indices[fd+1:]: # *** skip row with fd in it.\n",
    "    crScaler = AM[i][fd] # cr stands for \"current row\".\n",
    "    for j in range(n): # cr - crScaler * fdRow, but one element at a time.\n",
    "        AM[i][j] = AM[i][j] - crScaler * AM[fd][j]\n",
    "        IM[i][j] = IM[i][j] - crScaler * IM[fd][j]\n",
    "    \n",
    "print_matrix('AM Matrix', AM)\n",
    "print()\n",
    "print_matrix('IM Matrix', IM)"
   ]
  },
  {
   "cell_type": "code",
   "execution_count": 7,
   "id": "16094d14",
   "metadata": {},
   "outputs": [
    {
     "name": "stdout",
     "output_type": "stream",
     "text": [
      "\n",
      "Using the matrices above, Scale row-2 of AM and IM by diagonal element 2 of AM, which is 1/-0.926.\n",
      "\n",
      "AM Matrix\n",
      "[1.0, -0.37, 0.148, -1.074]\n",
      "[0.0, 1.0, -0.4, -0.88]\n",
      "[0.0, -2.296, 0.519, 1.741]\n",
      "[0.0, -0.593, 0.037, 0.481]\n",
      "\n",
      "IM Matrix\n",
      "[0.037, 0.0, 0.0, 0.0]\n",
      "[-0.64, -1.08, 0.0, 0.0]\n",
      "[0.63, 0.0, 1.0, 0.0]\n",
      "[0.259, 0.0, 0.0, 1.0]\n",
      "\n",
      "Using the matrices above, subtract -0.370 * row-2 of AM from row-1 of AM, and \n",
      "\tsubtract -0.370 * row-2 of IM from row-1 of IM\n",
      "\n",
      "AM Matrix\n",
      "[1.0, 0.0, 0.0, -1.4]\n",
      "[0.0, 1.0, -0.4, -0.88]\n",
      "[0.0, -2.296, 0.519, 1.741]\n",
      "[0.0, -0.593, 0.037, 0.481]\n",
      "\n",
      "IM Matrix\n",
      "[-0.2, -0.4, 0.0, 0.0]\n",
      "[-0.64, -1.08, 0.0, 0.0]\n",
      "[0.63, 0.0, 1.0, 0.0]\n",
      "[0.259, 0.0, 0.0, 1.0]\n",
      "\n",
      "Using the matrices above, subtract -2.296 * row-2 of AM from row-3 of AM, and \n",
      "\tsubtract -2.296 * row-2 of IM from row-3 of IM\n",
      "\n",
      "AM Matrix\n",
      "[1.0, 0.0, 0.0, -1.4]\n",
      "[0.0, 1.0, -0.4, -0.88]\n",
      "[0.0, 0.0, -0.4, -0.28]\n",
      "[0.0, -0.593, 0.037, 0.481]\n",
      "\n",
      "IM Matrix\n",
      "[-0.2, -0.4, 0.0, 0.0]\n",
      "[-0.64, -1.08, 0.0, 0.0]\n",
      "[-0.84, -2.48, 1.0, 0.0]\n",
      "[0.259, 0.0, 0.0, 1.0]\n",
      "\n",
      "Using the matrices above, subtract -0.593 * row-2 of AM from row-4 of AM, and \n",
      "\tsubtract -0.593 * row-2 of IM from row-4 of IM\n",
      "\n",
      "AM Matrix\n",
      "[1.0, 0.0, 0.0, -1.4]\n",
      "[0.0, 1.0, -0.4, -0.88]\n",
      "[0.0, 0.0, -0.4, -0.28]\n",
      "[0.0, 0.0, -0.2, -0.04]\n",
      "\n",
      "IM Matrix\n",
      "[-0.2, -0.4, 0.0, 0.0]\n",
      "[-0.64, -1.08, 0.0, 0.0]\n",
      "[-0.84, -2.48, 1.0, 0.0]\n",
      "[-0.12, -0.64, 0.0, 1.0]\n",
      "\n",
      "\n",
      "Using the matrices above, Scale row-3 of AM and IM by diagonal element 3 of AM, which is 1/-0.400.\n",
      "\n",
      "AM Matrix\n",
      "[1.0, 0.0, 0.0, -1.4]\n",
      "[0.0, 1.0, -0.4, -0.88]\n",
      "[0.0, 0.0, 1.0, 0.7]\n",
      "[0.0, 0.0, -0.2, -0.04]\n",
      "\n",
      "IM Matrix\n",
      "[-0.2, -0.4, 0.0, 0.0]\n",
      "[-0.64, -1.08, 0.0, 0.0]\n",
      "[2.1, 6.2, -2.5, 0.0]\n",
      "[-0.12, -0.64, 0.0, 1.0]\n",
      "\n",
      "Using the matrices above, subtract +0.000 * row-3 of AM from row-1 of AM, and \n",
      "\tsubtract +0.000 * row-3 of IM from row-1 of IM\n",
      "\n",
      "AM Matrix\n",
      "[1.0, 0.0, 0.0, -1.4]\n",
      "[0.0, 1.0, -0.4, -0.88]\n",
      "[0.0, 0.0, 1.0, 0.7]\n",
      "[0.0, 0.0, -0.2, -0.04]\n",
      "\n",
      "IM Matrix\n",
      "[-0.2, -0.4, 0.0, 0.0]\n",
      "[-0.64, -1.08, 0.0, 0.0]\n",
      "[2.1, 6.2, -2.5, 0.0]\n",
      "[-0.12, -0.64, 0.0, 1.0]\n",
      "\n",
      "Using the matrices above, subtract -0.400 * row-3 of AM from row-2 of AM, and \n",
      "\tsubtract -0.400 * row-3 of IM from row-2 of IM\n",
      "\n",
      "AM Matrix\n",
      "[1.0, 0.0, 0.0, -1.4]\n",
      "[0.0, 1.0, 0.0, -0.6]\n",
      "[0.0, 0.0, 1.0, 0.7]\n",
      "[0.0, 0.0, -0.2, -0.04]\n",
      "\n",
      "IM Matrix\n",
      "[-0.2, -0.4, 0.0, 0.0]\n",
      "[0.2, 1.4, -1.0, 0.0]\n",
      "[2.1, 6.2, -2.5, 0.0]\n",
      "[-0.12, -0.64, 0.0, 1.0]\n",
      "\n",
      "Using the matrices above, subtract -0.200 * row-3 of AM from row-4 of AM, and \n",
      "\tsubtract -0.200 * row-3 of IM from row-4 of IM\n",
      "\n",
      "AM Matrix\n",
      "[1.0, 0.0, 0.0, -1.4]\n",
      "[0.0, 1.0, 0.0, -0.6]\n",
      "[0.0, 0.0, 1.0, 0.7]\n",
      "[0.0, 0.0, 0.0, 0.1]\n",
      "\n",
      "IM Matrix\n",
      "[-0.2, -0.4, 0.0, 0.0]\n",
      "[0.2, 1.4, -1.0, 0.0]\n",
      "[2.1, 6.2, -2.5, 0.0]\n",
      "[0.3, 0.6, -0.5, 1.0]\n",
      "\n",
      "\n",
      "Using the matrices above, Scale row-4 of AM and IM by diagonal element 4 of AM, which is 1/+0.100.\n",
      "\n",
      "AM Matrix\n",
      "[1.0, 0.0, 0.0, -1.4]\n",
      "[0.0, 1.0, 0.0, -0.6]\n",
      "[0.0, 0.0, 1.0, 0.7]\n",
      "[0.0, 0.0, 0.0, 1.0]\n",
      "\n",
      "IM Matrix\n",
      "[-0.2, -0.4, 0.0, 0.0]\n",
      "[0.2, 1.4, -1.0, 0.0]\n",
      "[2.1, 6.2, -2.5, 0.0]\n",
      "[3.0, 6.0, -5.0, 10.0]\n",
      "\n",
      "Using the matrices above, subtract -1.400 * row-4 of AM from row-1 of AM, and \n",
      "\tsubtract -1.400 * row-4 of IM from row-1 of IM\n",
      "\n",
      "AM Matrix\n",
      "[1.0, 0.0, 0.0, 0.0]\n",
      "[0.0, 1.0, 0.0, -0.6]\n",
      "[0.0, 0.0, 1.0, 0.7]\n",
      "[0.0, 0.0, 0.0, 1.0]\n",
      "\n",
      "IM Matrix\n",
      "[4.0, 8.0, -7.0, 14.0]\n",
      "[0.2, 1.4, -1.0, 0.0]\n",
      "[2.1, 6.2, -2.5, 0.0]\n",
      "[3.0, 6.0, -5.0, 10.0]\n",
      "\n",
      "Using the matrices above, subtract -0.600 * row-4 of AM from row-2 of AM, and \n",
      "\tsubtract -0.600 * row-4 of IM from row-2 of IM\n",
      "\n",
      "AM Matrix\n",
      "[1.0, 0.0, 0.0, 0.0]\n",
      "[0.0, 1.0, 0.0, 0.0]\n",
      "[0.0, 0.0, 1.0, 0.7]\n",
      "[0.0, 0.0, 0.0, 1.0]\n",
      "\n",
      "IM Matrix\n",
      "[4.0, 8.0, -7.0, 14.0]\n",
      "[2.0, 5.0, -4.0, 6.0]\n",
      "[2.1, 6.2, -2.5, 0.0]\n",
      "[3.0, 6.0, -5.0, 10.0]\n",
      "\n",
      "Using the matrices above, subtract +0.700 * row-4 of AM from row-3 of AM, and \n",
      "\tsubtract +0.700 * row-4 of IM from row-3 of IM\n",
      "\n",
      "AM Matrix\n",
      "[1.0, 0.0, 0.0, 0.0]\n",
      "[0.0, 1.0, 0.0, 0.0]\n",
      "[0.0, 0.0, 1.0, 0.0]\n",
      "[0.0, 0.0, 0.0, 1.0]\n",
      "\n",
      "IM Matrix\n",
      "[4.0, 8.0, -7.0, 14.0]\n",
      "[2.0, 5.0, -4.0, 6.0]\n",
      "[0.0, 2.0, 1.0, -7.0]\n",
      "[3.0, 6.0, -5.0, 10.0]\n",
      "\n"
     ]
    }
   ],
   "source": [
    "# Use the first row of the previous equation to drive the other elements in AM matrtix to zero. \n",
    "indices = list(range(n)) # to allow flexible row referencing \n",
    "# I have already run for fd = 0, now running for fd = 1 to the last fd\n",
    "for fd in range(1,n): # fd stands for focus diagonal\n",
    "    fdScaler = 1.0 / AM[fd][fd]\n",
    "    # FIRST: scale fd row with fd inverse. \n",
    "    for j in range(n): # Use j to indicate column looping.\n",
    "        AM[fd][j] *= fdScaler\n",
    "        IM[fd][j] *= fdScaler\n",
    "    \n",
    "    # Section to print out current actions:\n",
    "    string1 = '\\nUsing the matrices above, Scale row-{} of AM and IM by '\n",
    "    string2 = 'diagonal element {} of AM, which is 1/{:+.3f}.\\n'\n",
    "    stringsum = string1 + string2\n",
    "    val1 = fd+1; val2 = fd+1\n",
    "    Action = stringsum.format(val1,val2,round(1./fdScaler,3))\n",
    "    print(Action)\n",
    "    print_matrix('AM Matrix', AM)\n",
    "    print()\n",
    "    print_matrix('IM Matrix', IM)\n",
    "    print()\n",
    "    \n",
    "    # SECOND: operate on all rows except fd row.\n",
    "    for i in indices[:fd] + indices[fd+1:]: # *** skip row with fd in it.\n",
    "        crScaler = AM[i][fd] # cr stands for \"current row\".\n",
    "        for j in range(n): # cr - crScaler * fdRow, but one element at a time.\n",
    "            AM[i][j] = AM[i][j] - crScaler * AM[fd][j]\n",
    "            IM[i][j] = IM[i][j] - crScaler * IM[fd][j]\n",
    "        \n",
    "        # Section to print out current actions:\n",
    "        string1 = 'Using the matrices above, subtract {:+.3f} * row-{} of AM from row-{} of AM, and \\n'\n",
    "        string2 = '\\tsubtract {:+.3f} * row-{} of IM from row-{} of IM\\n'\n",
    "        val1 = i+1; val2 = fd+1\n",
    "        stringsum = string1 + string2\n",
    "        Action = stringsum.format(crScaler, val2, val1, crScaler, val2, val1)\n",
    "        print(Action)\n",
    "        print_matrix('AM Matrix', AM)\n",
    "        print()\n",
    "        print_matrix('IM Matrix', IM)\n",
    "        print()"
   ]
  },
  {
   "cell_type": "code",
   "execution_count": 8,
   "id": "772f20bc",
   "metadata": {},
   "outputs": [
    {
     "name": "stdout",
     "output_type": "stream",
     "text": [
      "Proof of Inversion\n",
      "[1.0, 0.0, 0.0, 0.0]\n",
      "[0.0, 1.0, 0.0, 0.0]\n",
      "[0.0, 0.0, 1.0, 0.0]\n",
      "[0.0, 0.0, 0.0, 1.0]\n",
      "A Inverse Matrix\n",
      "[4, 8, -7, 14]\n",
      "[2, 5, -4, 6]\n",
      "[0, 2, 1, -7]\n",
      "[3, 6, -5, 10]\n"
     ]
    }
   ],
   "source": [
    "# The 4x4 steps are completed. IM matrix is the inverse of A. A * IM = I \n",
    "\n",
    "A = [[27, -10, 4, -29],[-16,5,-2,18],[-17,4,-2,20],[-7,2,-1,8]]\n",
    "print_matrix('Proof of Inversion', matrix_multiply(A,IM))\n",
    "\n",
    "# Give the inversion matrix a name A_inv is the title \n",
    "A_inv = [[4,8,-7,14],[2,5,-4,6],[0,2,1,-7],[3,6,-5,10]]\n",
    "print_matrix('A Inverse Matrix', A_inv)"
   ]
  },
  {
   "cell_type": "code",
   "execution_count": 9,
   "id": "c88e051c",
   "metadata": {},
   "outputs": [
    {
     "name": "stdout",
     "output_type": "stream",
     "text": [
      "[[ 27 -10   4 -29]\n",
      " [-16   5  -2  18]\n",
      " [-17   4  -2  20]\n",
      " [ -7   2  -1   8]] \n",
      "\n",
      "[[ 4.  8. -7. 14.]\n",
      " [ 2.  5. -4.  6.]\n",
      " [-0.  2.  1. -7.]\n",
      " [ 3.  6. -5. 10.]]\n"
     ]
    }
   ],
   "source": [
    "# Double check my work\n",
    "import numpy as np\n",
    "from numpy.linalg import inv\n",
    " \n",
    " \n",
    "a = np.array([[27, -10, 4, -29],[-16,5,-2,18],[-17,4,-2,20],[-7,2,-1,8]])\n",
    "print(a, '\\n')\n",
    " \n",
    "ainv = inv(a)\n",
    "ainv = ainv.round(4)\n",
    " \n",
    "print(ainv)"
   ]
  },
  {
   "cell_type": "code",
   "execution_count": 10,
   "id": "67d207f1",
   "metadata": {},
   "outputs": [
    {
     "name": "stdout",
     "output_type": "stream",
     "text": [
      "The values of X equal: [[10], [3], [-9], [7]]\n"
     ]
    }
   ],
   "source": [
    "# Multiply each side of the equation by a inverse. I will want to use the equation  A^-1 *AX = A^-1*B to solve for X. \n",
    "print(\"The values of X equal:\", matrix_multiply(A_inv,B))"
   ]
  },
  {
   "cell_type": "code",
   "execution_count": 11,
   "id": "2c52a079",
   "metadata": {},
   "outputs": [
    {
     "name": "stdout",
     "output_type": "stream",
     "text": [
      "[[10.]\n",
      " [ 3.]\n",
      " [-9.]\n",
      " [ 7.]]\n"
     ]
    }
   ],
   "source": [
    "# Double check my work\n",
    "\n",
    "import numpy as np\n",
    " \n",
    "a = np.array([[27, -10, 4, -29],[-16,5,-2,18],[-17,4,-2,20],[-7,2,-1,8]])\n",
    "b = np.array([[1],[-1],[0],[1]])\n",
    " \n",
    "x = np.linalg.solve(a, b)\n",
    " \n",
    "print(x)"
   ]
  },
  {
   "cell_type": "code",
   "execution_count": 13,
   "id": "01c85874",
   "metadata": {},
   "outputs": [],
   "source": [
    "# 2. Visualizing a Linear Transformation\n",
    "## Let T be the linear transformation that takes in a vector v in R2 and outputs the product of the 2×2 matrix A shown below and v.\n",
    "\n",
    "# (a.) Find T(x) where x = [[2],-2] \n",
    "# Consider the T(v) where T(v) = Av or R ^2\n",
    "# T(x) = Ax\n",
    "# x = [[2],[-2]]\n",
    "# A = [[(sqrt 2)/ 2,(sqrt -2), 2], [(sqrt 2)/2, (sqrt 2)/2]]\n",
    "\n",
    "\n"
   ]
  },
  {
   "cell_type": "code",
   "execution_count": 80,
   "id": "f5967640",
   "metadata": {},
   "outputs": [
    {
     "name": "stdout",
     "output_type": "stream",
     "text": [
      "0.7071067811865476\n",
      "0.7071067811865476\n",
      "0.7071067811865476\n",
      "0.7071067811865476\n"
     ]
    }
   ],
   "source": [
    "import math\n",
    "import cmath\n",
    "print(math.sqrt(2)/2)\n",
    "print(math.sqrt(2)/2)\n",
    "print(math.sqrt(2)/2)\n",
    "print(math.sqrt(2)/2)"
   ]
  },
  {
   "cell_type": "code",
   "execution_count": 90,
   "id": "66ae1dea",
   "metadata": {},
   "outputs": [
    {
     "name": "stdout",
     "output_type": "stream",
     "text": [
      "[[0.7071067811865476, 0.7071067811865476], [0.7071067811865476, 0.7071067811865476]]\n",
      "[[2], [-2]]\n"
     ]
    }
   ],
   "source": [
    "Ax = [[math.sqrt(2)/2, math.sqrt(2)/2], [math.sqrt(2)/2, math.sqrt(2)/2]]\n",
    "x = [[2],[-2]]\n",
    "\n",
    "print(Ax)\n",
    "print(x)"
   ]
  },
  {
   "cell_type": "code",
   "execution_count": 39,
   "id": "a2a2c367",
   "metadata": {},
   "outputs": [
    {
     "data": {
      "text/plain": [
       "1.4142135623730951"
      ]
     },
     "execution_count": 39,
     "metadata": {},
     "output_type": "execute_result"
    }
   ],
   "source": [
    "# 2 * first cell column of A\n",
    "2*(math.sqrt(2)/2)"
   ]
  },
  {
   "cell_type": "code",
   "execution_count": 86,
   "id": "40a91b71",
   "metadata": {},
   "outputs": [
    {
     "data": {
      "text/plain": [
       "1.4142135623730951"
      ]
     },
     "execution_count": 86,
     "metadata": {},
     "output_type": "execute_result"
    }
   ],
   "source": [
    "# 2 * second cell column of A\n",
    "2*(math.sqrt(2)/2)"
   ]
  },
  {
   "cell_type": "code",
   "execution_count": 87,
   "id": "3ed3d8c6",
   "metadata": {},
   "outputs": [
    {
     "data": {
      "text/plain": [
       "-1.4142135623730951"
      ]
     },
     "execution_count": 87,
     "metadata": {},
     "output_type": "execute_result"
    }
   ],
   "source": [
    "# -2 * second column first cell of A \n",
    "(-2)*(math.sqrt(2)/2)"
   ]
  },
  {
   "cell_type": "code",
   "execution_count": 88,
   "id": "4456e791",
   "metadata": {},
   "outputs": [
    {
     "data": {
      "text/plain": [
       "-1.4142135623730951"
      ]
     },
     "execution_count": 88,
     "metadata": {},
     "output_type": "execute_result"
    }
   ],
   "source": [
    "(-2)*(math.sqrt(2)/2)"
   ]
  },
  {
   "cell_type": "code",
   "execution_count": 59,
   "id": "9af6a2f2",
   "metadata": {},
   "outputs": [],
   "source": [
    "# Add or subtract all the elements of row"
   ]
  },
  {
   "cell_type": "code",
   "execution_count": 89,
   "id": "4a15a12a",
   "metadata": {},
   "outputs": [
    {
     "data": {
      "text/plain": [
       "2.8284271247461903"
      ]
     },
     "execution_count": 89,
     "metadata": {},
     "output_type": "execute_result"
    }
   ],
   "source": [
    "(2*(math.sqrt(2)/2)) - ((-2)*(math.sqrt(2)/2))"
   ]
  },
  {
   "cell_type": "code",
   "execution_count": 92,
   "id": "0cb872c7",
   "metadata": {},
   "outputs": [
    {
     "data": {
      "text/plain": [
       "0.0"
      ]
     },
     "execution_count": 92,
     "metadata": {},
     "output_type": "execute_result"
    }
   ],
   "source": [
    "(2*(math.sqrt(2)/2)) + ((-2)*(math.sqrt(2)/2))"
   ]
  },
  {
   "cell_type": "code",
   "execution_count": 100,
   "id": "781b18cc",
   "metadata": {},
   "outputs": [
    {
     "name": "stdout",
     "output_type": "stream",
     "text": [
      "The linear transformation of x is: [[2.8284271247461903], [0.0]]\n"
     ]
    }
   ],
   "source": [
    "print('The linear transformation of x is:', [[2.8284271247461903],[0.0]])"
   ]
  },
  {
   "cell_type": "code",
   "execution_count": 104,
   "id": "c15a22f5",
   "metadata": {},
   "outputs": [
    {
     "ename": "TypeError",
     "evalue": "Field elements must be 2- or 3-tuples, got '0'",
     "output_type": "error",
     "traceback": [
      "\u001b[1;31m---------------------------------------------------------------------------\u001b[0m",
      "\u001b[1;31mTypeError\u001b[0m                                 Traceback (most recent call last)",
      "Cell \u001b[1;32mIn[104], line 1\u001b[0m\n\u001b[1;32m----> 1\u001b[0m T \u001b[38;5;241m=\u001b[39m \u001b[43mnp\u001b[49m\u001b[38;5;241;43m.\u001b[39;49m\u001b[43marray\u001b[49m\u001b[43m(\u001b[49m\u001b[43m[\u001b[49m\u001b[38;5;241;43m2.8284271247461903\u001b[39;49m\u001b[43m]\u001b[49m\u001b[43m,\u001b[49m\u001b[43m[\u001b[49m\u001b[38;5;241;43m0\u001b[39;49m\u001b[43m]\u001b[49m\u001b[43m)\u001b[49m\n\u001b[0;32m      2\u001b[0m trans \u001b[38;5;241m=\u001b[39m T \u001b[38;5;241m@\u001b[39m xy\n\u001b[0;32m      3\u001b[0m xx_transformed \u001b[38;5;241m=\u001b[39m trans[\u001b[38;5;241m0\u001b[39m]\u001b[38;5;241m.\u001b[39mreshape(xx\u001b[38;5;241m.\u001b[39mshape)\n",
      "\u001b[1;31mTypeError\u001b[0m: Field elements must be 2- or 3-tuples, got '0'"
     ]
    }
   ],
   "source": [
    " T = np.array([2.8284271247461903],[0])\n",
    "trans = T @ xy\n",
    "xx_transformed = trans[0].reshape(xx.shape)\n",
    "yy_transformed = trans[1].reshape(yy.shape)\n",
    "\n",
    "f, axes = plt.subplots(1,2, figsize =(6,3))\n",
    "axes[0].scatter(xx, yy, s=10, c=xx+yy)\n",
    "axes[1].scatter(xx_transformed, yy_transfored, s=10, c=xx+yy)"
   ]
  },
  {
   "cell_type": "code",
   "execution_count": 107,
   "id": "1535ba3e",
   "metadata": {},
   "outputs": [
    {
     "name": "stdout",
     "output_type": "stream",
     "text": [
      "I was unable to execute the data visualization becuase my second row cell number is equal to zero. However, a T transforms vectors with the rotation and by stretching the space.\n"
     ]
    }
   ],
   "source": [
    "print(\"I was unable to execute the data visualization becuase my second row cell number is equal to zero. However, a T transforms vectors with the rotation and by stretching the space.\")"
   ]
  },
  {
   "cell_type": "code",
   "execution_count": null,
   "id": "5d941777",
   "metadata": {},
   "outputs": [],
   "source": []
  }
 ],
 "metadata": {
  "kernelspec": {
   "display_name": "Python 3 (ipykernel)",
   "language": "python",
   "name": "python3"
  },
  "language_info": {
   "codemirror_mode": {
    "name": "ipython",
    "version": 3
   },
   "file_extension": ".py",
   "mimetype": "text/x-python",
   "name": "python",
   "nbconvert_exporter": "python",
   "pygments_lexer": "ipython3",
   "version": "3.11.0"
  }
 },
 "nbformat": 4,
 "nbformat_minor": 5
}
